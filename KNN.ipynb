{
 "cells": [
  {
   "cell_type": "markdown",
   "metadata": {},
   "source": [
    "# KNN\n",
    "\n",
    "Este código implementa uma versão simples do algoritmo de classificação KNN. Por \"simples\" quero dizer que há implementações mais eficientes!"
   ]
  },
  {
   "cell_type": "code",
   "execution_count": null,
   "metadata": {},
   "outputs": [],
   "source": [
    "import numpy as np\n",
    "from sklearn.datasets import load_digits\n",
    "from sklearn.metrics.pairwise import euclidean_distances\n",
    "from sklearn.model_selection import train_test_split"
   ]
  },
  {
   "cell_type": "code",
   "execution_count": null,
   "metadata": {},
   "outputs": [],
   "source": [
    "def vote_histogram(votes,n_classes):\n",
    "    v = [0] * n_classes\n",
    "    for i in votes:\n",
    "        v[i]+=1\n",
    "    return v\n",
    "\n",
    "def knn(X_train, Y_train, x, k):\n",
    "    d = euclidean_distances(x.reshape(1,-1), X_train).reshape(-1)\n",
    "    idx = np.argsort(d)\n",
    "    hist = vote_histogram(Y_train[idx][:k], len(set(Y_train)))\n",
    "    return np.argmax(hist)\n",
    "\n",
    "def knn_2():\n",
    "    #Uma das formas de acelerar é passar o X_test todo. Acredito que a implementação do euclidean_distances\n",
    "    #é eficiente para computar tudo de uma vez (com implementação vetorial)\n",
    "    raise NotImplementedError\n"
   ]
  },
  {
   "cell_type": "code",
   "execution_count": null,
   "metadata": {},
   "outputs": [],
   "source": [
    "X, Y = load_digits(return_X_y=True)\n",
    "\n",
    "X_train, X_test, Y_train, Y_test = train_test_split(X, Y, test_size=0.2, shuffle=False)\n",
    "\n",
    "misses = 0\n",
    "hits = 0\n",
    "k = 3\n",
    "\n",
    "for i, x in enumerate(X_test):\n",
    "    if knn(X_train, Y_train, x, k) == Y_test[i]:\n",
    "        hits+=1\n",
    "    else:\n",
    "        misses+=1\n",
    "\n",
    "print (\"acurácia: %.02f\" % (hits / float(hits + misses)))"
   ]
  }
 ],
 "metadata": {
  "kernelspec": {
   "display_name": "Python 2",
   "language": "python",
   "name": "python2"
  },
  "language_info": {
   "codemirror_mode": {
    "name": "ipython",
    "version": 2
   },
   "file_extension": ".py",
   "mimetype": "text/x-python",
   "name": "python",
   "nbconvert_exporter": "python",
   "pygments_lexer": "ipython2",
   "version": "2.7.14"
  }
 },
 "nbformat": 4,
 "nbformat_minor": 2
}
