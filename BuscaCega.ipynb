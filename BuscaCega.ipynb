{
 "cells": [
  {
   "cell_type": "markdown",
   "metadata": {
    "deletable": true,
    "editable": true
   },
   "source": [
    "# Busca Cega"
   ]
  },
  {
   "cell_type": "code",
   "execution_count": null,
   "metadata": {
    "collapsed": true
   },
   "outputs": [],
   "source": [
    "from pprint import pprint"
   ]
  },
  {
   "cell_type": "code",
   "execution_count": null,
   "metadata": {
    "collapsed": false,
    "deletable": true,
    "editable": true
   },
   "outputs": [],
   "source": [
    "class Busca:\n",
    "    def __init__(self):\n",
    "        pass\n",
    "    \n",
    "    def buscar(self, problema):\n",
    "        raise NotImplementedError\n",
    "\n",
    "    def solucao(self, no):\n",
    "        p = no\n",
    "        caminho = []\n",
    "        while p:\n",
    "            if p.acao:\n",
    "                caminho.append(p.acao)\n",
    "            else:\n",
    "                caminho.append(p.estado)\n",
    "            p = p.pai\n",
    "        caminho.reverse()\n",
    "        return caminho\n",
    "\n",
    "class NoBusca(object):\n",
    "    def __init__(self, problema, estado, pai, acao, custo_total):\n",
    "        self.estado = estado   \n",
    "        self.pai = pai\n",
    "        self.acao = acao\n",
    "        self.custo_total = custo_total\n",
    "    \n",
    "    @classmethod\n",
    "    def from_pai(cls, problema, pai, acao):\n",
    "        estado = problema.resultado(pai.estado, acao)\n",
    "        custo_total = pai.custo_total + problema.custo_passo(pai.estado, acao)\n",
    "        return cls(problema, estado, pai, acao, custo_total)\n",
    "    \n",
    "    @classmethod\n",
    "    def from_init(cls, problema):\n",
    "        return cls(problema, problema.estado_inicial, None, None, 0)\n",
    "\n",
    "class Estado(object):\n",
    "    def __init__(self, chave):\n",
    "        self.chave = chave\n",
    "\n",
    "class Acao(object):\n",
    "    def __init__(self, chave):\n",
    "        self.chave = chave\n",
    "        \n",
    "class Problema:\n",
    "    estado_inicial = None\n",
    "    estado_final = None\n",
    "    \n",
    "    def __init__(self):\n",
    "        pass\n",
    "    \n",
    "    def custo_passo(self, estado, acao):\n",
    "        raise NotImplementedError\n",
    "        \n",
    "    def resultado(self, estado, acao):\n",
    "        raise NotImplementedError\n",
    "        \n",
    "    def acoes(self, estado):\n",
    "        raise NotImplementedError\n",
    "    \n",
    "    def objetivo(self, estado):\n",
    "        raise NotImplementedError\n",
    "\n",
    "class EstadoRota(Estado):\n",
    "    def __init__(self, chave):\n",
    "        super(EstadoRota, self).__init__(chave)\n",
    "        \n",
    "    def __repr__(self):\n",
    "        return (\"Em(%s)\" % str.capitalize(self.chave))\n",
    "    \n",
    "    def __str__(self):\n",
    "        return self.__repr__()\n",
    "\n",
    "class AcaoIrRota(Acao):\n",
    "    def __init__(self, chave, destino, custo):\n",
    "        super(AcaoIrRota, self).__init__(chave)\n",
    "        self.destino = destino\n",
    "        self.custo = custo\n",
    "        \n",
    "    def __repr__(self):\n",
    "        return (\"Ir(%s,%d)\" % (str.capitalize(self.chave), self.custo))\n",
    "    \n",
    "    def __str__(self):\n",
    "        return self.__repr__()"
   ]
  },
  {
   "cell_type": "code",
   "execution_count": 203,
   "metadata": {
    "collapsed": false,
    "deletable": true,
    "editable": true
   },
   "outputs": [],
   "source": [
    "class RotasRomenia(Problema):\n",
    "    def __init__(self):\n",
    "        pass\n",
    "        \n",
    "    @classmethod\n",
    "    def from_arquivo(cls, arquivo):\n",
    "        with open(arquivo,'r') as f:\n",
    "            estradas = f.readlines()\n",
    "        estradas = map(str.strip,estradas)\n",
    "        estradas = map(str.split,estradas,[','] * len(estradas))\n",
    "        cls.estado_inicial = EstadoRota(estradas[0][0])\n",
    "        cls.estado_final = EstadoRota(estradas[1][0])\n",
    "        \n",
    "        estados = {cls.estado_inicial.chave : (cls.estado_inicial, dict()), cls.estado_final.chave : (cls.estado_final, dict())}\n",
    "        \n",
    "        for caminho in estradas[2:]:\n",
    "            if estados.has_key(caminho[0]):\n",
    "                origem = estados[caminho[0]]\n",
    "            else:\n",
    "                estados[caminho[0]] = (EstadoRota(caminho[0]), dict())\n",
    "                origem = estados[caminho[0]]\n",
    "            \n",
    "            if estados.has_key(caminho[1]):\n",
    "                destino = estados[caminho[1]][0]\n",
    "            else:\n",
    "                estados[caminho[1]] = (EstadoRota(caminho[1]), dict())\n",
    "                destino = estados[caminho[1]][0]\n",
    "            \n",
    "            custo = int(caminho[2])\n",
    "            \n",
    "            acao = AcaoIrRota(destino.chave, destino, custo)\n",
    "            origem[1][destino.chave] = acao\n",
    "                \n",
    "        cls.estados = estados         \n",
    "            \n",
    "        return cls()\n",
    "        \n",
    "    def objetivo(self, estado):\n",
    "        return True if estado.chave == self.estado_final.chave else False\n",
    "        \n",
    "    def acoes(self, estado):\n",
    "        return self.estados[estado.chave][1].values()\n",
    "        \n",
    "    def resultado(self, estado, acao):\n",
    "        print acao\n",
    "        return acao.destino\n",
    "    \n",
    "    def custo_passo(self, estado, acao):\n",
    "        return acao.custo\n",
    "        "
   ]
  },
  {
   "cell_type": "code",
   "execution_count": 201,
   "metadata": {
    "collapsed": true
   },
   "outputs": [],
   "source": [
    "class BuscaLargura(Busca):\n",
    "    \n",
    "    def buscar(self, problema):\n",
    "        no = NoBusca.from_init(problema)\n",
    "        if problema.objetivo(no.estado):\n",
    "            return self.solucao(no)\n",
    "        fronteira = [no]\n",
    "        explorado = dict()\n",
    "        while True:\n",
    "            if len(fronteira) == 0:\n",
    "                return False\n",
    "            no = fronteira.pop(0)\n",
    "            explorado[no.estado.chave] = no.estado\n",
    "            for acao in problema.acoes(no.estado):\n",
    "                filho = NoBusca.from_pai(problema, no, acao)\n",
    "                if (filho not in explorado) and \\\n",
    "                    (not len(filter(lambda x: x.estado.chave == filho.estado.chave, fronteira)) > 1):\n",
    "                    if problema.objetivo(filho.estado):\n",
    "                        return self.solucao(filho)\n",
    "                    fronteira.append(filho)\n",
    "            "
   ]
  },
  {
   "cell_type": "code",
   "execution_count": 204,
   "metadata": {
    "collapsed": false
   },
   "outputs": [
    {
     "name": "stdout",
     "output_type": "stream",
     "text": [
      "Ir(Zerind,75)\n",
      "Ir(Timisoara,118)\n",
      "Ir(Sibiu,140)\n",
      "Ir(Oradea,71)\n",
      "Ir(Arad,75)\n",
      "Ir(Lugoj,111)\n",
      "Ir(Arad,118)\n",
      "Ir(Oradea,151)\n",
      "Ir(Fagaras,99)\n",
      "Ir(Rimnicu vilcea,80)\n",
      "Ir(Arad,140)\n",
      "Ir(Zerind,71)\n",
      "Ir(Sibiu,151)\n",
      "Ir(Zerind,75)\n",
      "Ir(Timisoara,118)\n",
      "Ir(Sibiu,140)\n",
      "Ir(Timisoara,111)\n",
      "Ir(Mehadia,70)\n",
      "Ir(Zerind,75)\n",
      "Ir(Timisoara,118)\n",
      "Ir(Sibiu,140)\n",
      "Ir(Zerind,71)\n",
      "Ir(Sibiu,151)\n",
      "Ir(Bucharest,211)\n"
     ]
    },
    {
     "data": {
      "text/plain": [
       "[Em(Arad), Ir(Sibiu,140), Ir(Fagaras,99), Ir(Bucharest,211)]"
      ]
     },
     "execution_count": 204,
     "metadata": {},
     "output_type": "execute_result"
    }
   ],
   "source": [
    "p = RotasRomenia.from_arquivo('romenia.txt')  \n",
    "\n",
    "b = BuscaLargura()\n",
    "\n",
    "b.buscar(p)"
   ]
  }
 ],
 "metadata": {
  "kernelspec": {
   "display_name": "Python 2",
   "language": "python",
   "name": "python2"
  },
  "language_info": {
   "codemirror_mode": {
    "name": "ipython",
    "version": 2
   },
   "file_extension": ".py",
   "mimetype": "text/x-python",
   "name": "python",
   "nbconvert_exporter": "python",
   "pygments_lexer": "ipython2",
   "version": "2.7.14"
  }
 },
 "nbformat": 4,
 "nbformat_minor": 2
}
